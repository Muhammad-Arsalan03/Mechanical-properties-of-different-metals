{
  "nbformat": 4,
  "nbformat_minor": 0,
  "metadata": {
    "colab": {
      "name": "Mechanical_testing.ipynb",
      "provenance": [],
      "collapsed_sections": []
    },
    "kernelspec": {
      "name": "python3",
      "display_name": "Python 3"
    },
    "language_info": {
      "name": "python"
    }
  },
  "cells": [
    {
      "cell_type": "code",
      "execution_count": null,
      "metadata": {
        "colab": {
          "base_uri": "https://localhost:8080/"
        },
        "id": "SBWbWE0woUQL",
        "outputId": "ffa46017-e1b3-429f-86c0-4ea495d16985"
      },
      "outputs": [
        {
          "output_type": "stream",
          "name": "stdout",
          "text": [
            "NumPy version: 1.21.5\n",
            "Pandas version: 1.3.5\n"
          ]
        }
      ],
      "source": [
        "# imports\n",
        "import numpy as np\n",
        "import pandas as pd\n",
        "import matplotlib.pyplot as plt\n",
        "from scipy.stats import linregress\n",
        "%matplotlib inline\n",
        "\n",
        "print(\"NumPy version:\",np.__version__)\n",
        "print(\"Pandas version:\",pd.__version__)"
      ]
    },
    {
      "cell_type": "code",
      "source": [
        "%ls"
      ],
      "metadata": {
        "colab": {
          "base_uri": "https://localhost:8080/"
        },
        "id": "VGoMeIlXpeXY",
        "outputId": "127d50f8-926e-4db6-a5d2-03e904cdf103"
      },
      "execution_count": null,
      "outputs": [
        {
          "output_type": "stream",
          "name": "stdout",
          "text": [
            "'High Carbon Steel TensionTest.csv'  'Tension testing Aluminium.csv'\n",
            " \u001b[0m\u001b[01;34msample_data\u001b[0m/                        'Tension testing Low Carbon Steel.csv'\n"
          ]
        }
      ]
    },
    {
      "cell_type": "code",
      "source": [
        "HCS = pd.read_csv(\"/content/High Carbon Steel TensionTest.csv\")\n",
        "LCS = pd.read_csv(\"/content/Tension testing Low Carbon Steel.csv\")\n",
        "AL = pd.read_csv(\"/content/Tension testing Aluminium.csv\")"
      ],
      "metadata": {
        "id": "BX9lqv_sok9D"
      },
      "execution_count": null,
      "outputs": []
    },
    {
      "cell_type": "code",
      "source": [
        "HCS.head()"
      ],
      "metadata": {
        "colab": {
          "base_uri": "https://localhost:8080/",
          "height": 206
        },
        "id": "wm3d91HfqM1f",
        "outputId": "7f390c86-27bc-48b7-f041-37b8b2d4c779"
      },
      "execution_count": null,
      "outputs": [
        {
          "output_type": "execute_result",
          "data": {
            "text/plain": [
              "   Time(s)   Force  Tensile strain (Strain 1)%\n",
              "0    0.000 -0.0002                      0.0002\n",
              "1    1.000  0.0007                      0.0001\n",
              "2    2.000  0.0016                      0.0000\n",
              "3    3.000  0.0070                      0.0003\n",
              "4    3.166  0.1325                      0.0014"
            ],
            "text/html": [
              "\n",
              "  <div id=\"df-abe41120-85f6-4b7f-9d3b-0429ce04b44c\">\n",
              "    <div class=\"colab-df-container\">\n",
              "      <div>\n",
              "<style scoped>\n",
              "    .dataframe tbody tr th:only-of-type {\n",
              "        vertical-align: middle;\n",
              "    }\n",
              "\n",
              "    .dataframe tbody tr th {\n",
              "        vertical-align: top;\n",
              "    }\n",
              "\n",
              "    .dataframe thead th {\n",
              "        text-align: right;\n",
              "    }\n",
              "</style>\n",
              "<table border=\"1\" class=\"dataframe\">\n",
              "  <thead>\n",
              "    <tr style=\"text-align: right;\">\n",
              "      <th></th>\n",
              "      <th>Time(s)</th>\n",
              "      <th>Force</th>\n",
              "      <th>Tensile strain (Strain 1)%</th>\n",
              "    </tr>\n",
              "  </thead>\n",
              "  <tbody>\n",
              "    <tr>\n",
              "      <th>0</th>\n",
              "      <td>0.000</td>\n",
              "      <td>-0.0002</td>\n",
              "      <td>0.0002</td>\n",
              "    </tr>\n",
              "    <tr>\n",
              "      <th>1</th>\n",
              "      <td>1.000</td>\n",
              "      <td>0.0007</td>\n",
              "      <td>0.0001</td>\n",
              "    </tr>\n",
              "    <tr>\n",
              "      <th>2</th>\n",
              "      <td>2.000</td>\n",
              "      <td>0.0016</td>\n",
              "      <td>0.0000</td>\n",
              "    </tr>\n",
              "    <tr>\n",
              "      <th>3</th>\n",
              "      <td>3.000</td>\n",
              "      <td>0.0070</td>\n",
              "      <td>0.0003</td>\n",
              "    </tr>\n",
              "    <tr>\n",
              "      <th>4</th>\n",
              "      <td>3.166</td>\n",
              "      <td>0.1325</td>\n",
              "      <td>0.0014</td>\n",
              "    </tr>\n",
              "  </tbody>\n",
              "</table>\n",
              "</div>\n",
              "      <button class=\"colab-df-convert\" onclick=\"convertToInteractive('df-abe41120-85f6-4b7f-9d3b-0429ce04b44c')\"\n",
              "              title=\"Convert this dataframe to an interactive table.\"\n",
              "              style=\"display:none;\">\n",
              "        \n",
              "  <svg xmlns=\"http://www.w3.org/2000/svg\" height=\"24px\"viewBox=\"0 0 24 24\"\n",
              "       width=\"24px\">\n",
              "    <path d=\"M0 0h24v24H0V0z\" fill=\"none\"/>\n",
              "    <path d=\"M18.56 5.44l.94 2.06.94-2.06 2.06-.94-2.06-.94-.94-2.06-.94 2.06-2.06.94zm-11 1L8.5 8.5l.94-2.06 2.06-.94-2.06-.94L8.5 2.5l-.94 2.06-2.06.94zm10 10l.94 2.06.94-2.06 2.06-.94-2.06-.94-.94-2.06-.94 2.06-2.06.94z\"/><path d=\"M17.41 7.96l-1.37-1.37c-.4-.4-.92-.59-1.43-.59-.52 0-1.04.2-1.43.59L10.3 9.45l-7.72 7.72c-.78.78-.78 2.05 0 2.83L4 21.41c.39.39.9.59 1.41.59.51 0 1.02-.2 1.41-.59l7.78-7.78 2.81-2.81c.8-.78.8-2.07 0-2.86zM5.41 20L4 18.59l7.72-7.72 1.47 1.35L5.41 20z\"/>\n",
              "  </svg>\n",
              "      </button>\n",
              "      \n",
              "  <style>\n",
              "    .colab-df-container {\n",
              "      display:flex;\n",
              "      flex-wrap:wrap;\n",
              "      gap: 12px;\n",
              "    }\n",
              "\n",
              "    .colab-df-convert {\n",
              "      background-color: #E8F0FE;\n",
              "      border: none;\n",
              "      border-radius: 50%;\n",
              "      cursor: pointer;\n",
              "      display: none;\n",
              "      fill: #1967D2;\n",
              "      height: 32px;\n",
              "      padding: 0 0 0 0;\n",
              "      width: 32px;\n",
              "    }\n",
              "\n",
              "    .colab-df-convert:hover {\n",
              "      background-color: #E2EBFA;\n",
              "      box-shadow: 0px 1px 2px rgba(60, 64, 67, 0.3), 0px 1px 3px 1px rgba(60, 64, 67, 0.15);\n",
              "      fill: #174EA6;\n",
              "    }\n",
              "\n",
              "    [theme=dark] .colab-df-convert {\n",
              "      background-color: #3B4455;\n",
              "      fill: #D2E3FC;\n",
              "    }\n",
              "\n",
              "    [theme=dark] .colab-df-convert:hover {\n",
              "      background-color: #434B5C;\n",
              "      box-shadow: 0px 1px 3px 1px rgba(0, 0, 0, 0.15);\n",
              "      filter: drop-shadow(0px 1px 2px rgba(0, 0, 0, 0.3));\n",
              "      fill: #FFFFFF;\n",
              "    }\n",
              "  </style>\n",
              "\n",
              "      <script>\n",
              "        const buttonEl =\n",
              "          document.querySelector('#df-abe41120-85f6-4b7f-9d3b-0429ce04b44c button.colab-df-convert');\n",
              "        buttonEl.style.display =\n",
              "          google.colab.kernel.accessAllowed ? 'block' : 'none';\n",
              "\n",
              "        async function convertToInteractive(key) {\n",
              "          const element = document.querySelector('#df-abe41120-85f6-4b7f-9d3b-0429ce04b44c');\n",
              "          const dataTable =\n",
              "            await google.colab.kernel.invokeFunction('convertToInteractive',\n",
              "                                                     [key], {});\n",
              "          if (!dataTable) return;\n",
              "\n",
              "          const docLinkHtml = 'Like what you see? Visit the ' +\n",
              "            '<a target=\"_blank\" href=https://colab.research.google.com/notebooks/data_table.ipynb>data table notebook</a>'\n",
              "            + ' to learn more about interactive tables.';\n",
              "          element.innerHTML = '';\n",
              "          dataTable['output_type'] = 'display_data';\n",
              "          await google.colab.output.renderOutput(dataTable, element);\n",
              "          const docLink = document.createElement('div');\n",
              "          docLink.innerHTML = docLinkHtml;\n",
              "          element.appendChild(docLink);\n",
              "        }\n",
              "      </script>\n",
              "    </div>\n",
              "  </div>\n",
              "  "
            ]
          },
          "metadata": {},
          "execution_count": 125
        }
      ]
    },
    {
      "cell_type": "code",
      "source": [
        "LCS.head()"
      ],
      "metadata": {
        "colab": {
          "base_uri": "https://localhost:8080/",
          "height": 206
        },
        "id": "9Qmr9TYxy7VH",
        "outputId": "3cf199aa-9722-4d8b-a15e-83d2127565b5"
      },
      "execution_count": null,
      "outputs": [
        {
          "output_type": "execute_result",
          "data": {
            "text/plain": [
              "    Time   Force  Tensile strain (Strain 1)\n",
              "0  0.000  0.0000                     0.0003\n",
              "1  1.000  0.0009                     0.0003\n",
              "2  2.000  0.0017                     0.0003\n",
              "3  3.000  0.0038                     0.0001\n",
              "4  3.453  0.1293                     0.0008"
            ],
            "text/html": [
              "\n",
              "  <div id=\"df-622e955f-0f70-4197-92c8-f2daad3b41ee\">\n",
              "    <div class=\"colab-df-container\">\n",
              "      <div>\n",
              "<style scoped>\n",
              "    .dataframe tbody tr th:only-of-type {\n",
              "        vertical-align: middle;\n",
              "    }\n",
              "\n",
              "    .dataframe tbody tr th {\n",
              "        vertical-align: top;\n",
              "    }\n",
              "\n",
              "    .dataframe thead th {\n",
              "        text-align: right;\n",
              "    }\n",
              "</style>\n",
              "<table border=\"1\" class=\"dataframe\">\n",
              "  <thead>\n",
              "    <tr style=\"text-align: right;\">\n",
              "      <th></th>\n",
              "      <th>Time</th>\n",
              "      <th>Force</th>\n",
              "      <th>Tensile strain (Strain 1)</th>\n",
              "    </tr>\n",
              "  </thead>\n",
              "  <tbody>\n",
              "    <tr>\n",
              "      <th>0</th>\n",
              "      <td>0.000</td>\n",
              "      <td>0.0000</td>\n",
              "      <td>0.0003</td>\n",
              "    </tr>\n",
              "    <tr>\n",
              "      <th>1</th>\n",
              "      <td>1.000</td>\n",
              "      <td>0.0009</td>\n",
              "      <td>0.0003</td>\n",
              "    </tr>\n",
              "    <tr>\n",
              "      <th>2</th>\n",
              "      <td>2.000</td>\n",
              "      <td>0.0017</td>\n",
              "      <td>0.0003</td>\n",
              "    </tr>\n",
              "    <tr>\n",
              "      <th>3</th>\n",
              "      <td>3.000</td>\n",
              "      <td>0.0038</td>\n",
              "      <td>0.0001</td>\n",
              "    </tr>\n",
              "    <tr>\n",
              "      <th>4</th>\n",
              "      <td>3.453</td>\n",
              "      <td>0.1293</td>\n",
              "      <td>0.0008</td>\n",
              "    </tr>\n",
              "  </tbody>\n",
              "</table>\n",
              "</div>\n",
              "      <button class=\"colab-df-convert\" onclick=\"convertToInteractive('df-622e955f-0f70-4197-92c8-f2daad3b41ee')\"\n",
              "              title=\"Convert this dataframe to an interactive table.\"\n",
              "              style=\"display:none;\">\n",
              "        \n",
              "  <svg xmlns=\"http://www.w3.org/2000/svg\" height=\"24px\"viewBox=\"0 0 24 24\"\n",
              "       width=\"24px\">\n",
              "    <path d=\"M0 0h24v24H0V0z\" fill=\"none\"/>\n",
              "    <path d=\"M18.56 5.44l.94 2.06.94-2.06 2.06-.94-2.06-.94-.94-2.06-.94 2.06-2.06.94zm-11 1L8.5 8.5l.94-2.06 2.06-.94-2.06-.94L8.5 2.5l-.94 2.06-2.06.94zm10 10l.94 2.06.94-2.06 2.06-.94-2.06-.94-.94-2.06-.94 2.06-2.06.94z\"/><path d=\"M17.41 7.96l-1.37-1.37c-.4-.4-.92-.59-1.43-.59-.52 0-1.04.2-1.43.59L10.3 9.45l-7.72 7.72c-.78.78-.78 2.05 0 2.83L4 21.41c.39.39.9.59 1.41.59.51 0 1.02-.2 1.41-.59l7.78-7.78 2.81-2.81c.8-.78.8-2.07 0-2.86zM5.41 20L4 18.59l7.72-7.72 1.47 1.35L5.41 20z\"/>\n",
              "  </svg>\n",
              "      </button>\n",
              "      \n",
              "  <style>\n",
              "    .colab-df-container {\n",
              "      display:flex;\n",
              "      flex-wrap:wrap;\n",
              "      gap: 12px;\n",
              "    }\n",
              "\n",
              "    .colab-df-convert {\n",
              "      background-color: #E8F0FE;\n",
              "      border: none;\n",
              "      border-radius: 50%;\n",
              "      cursor: pointer;\n",
              "      display: none;\n",
              "      fill: #1967D2;\n",
              "      height: 32px;\n",
              "      padding: 0 0 0 0;\n",
              "      width: 32px;\n",
              "    }\n",
              "\n",
              "    .colab-df-convert:hover {\n",
              "      background-color: #E2EBFA;\n",
              "      box-shadow: 0px 1px 2px rgba(60, 64, 67, 0.3), 0px 1px 3px 1px rgba(60, 64, 67, 0.15);\n",
              "      fill: #174EA6;\n",
              "    }\n",
              "\n",
              "    [theme=dark] .colab-df-convert {\n",
              "      background-color: #3B4455;\n",
              "      fill: #D2E3FC;\n",
              "    }\n",
              "\n",
              "    [theme=dark] .colab-df-convert:hover {\n",
              "      background-color: #434B5C;\n",
              "      box-shadow: 0px 1px 3px 1px rgba(0, 0, 0, 0.15);\n",
              "      filter: drop-shadow(0px 1px 2px rgba(0, 0, 0, 0.3));\n",
              "      fill: #FFFFFF;\n",
              "    }\n",
              "  </style>\n",
              "\n",
              "      <script>\n",
              "        const buttonEl =\n",
              "          document.querySelector('#df-622e955f-0f70-4197-92c8-f2daad3b41ee button.colab-df-convert');\n",
              "        buttonEl.style.display =\n",
              "          google.colab.kernel.accessAllowed ? 'block' : 'none';\n",
              "\n",
              "        async function convertToInteractive(key) {\n",
              "          const element = document.querySelector('#df-622e955f-0f70-4197-92c8-f2daad3b41ee');\n",
              "          const dataTable =\n",
              "            await google.colab.kernel.invokeFunction('convertToInteractive',\n",
              "                                                     [key], {});\n",
              "          if (!dataTable) return;\n",
              "\n",
              "          const docLinkHtml = 'Like what you see? Visit the ' +\n",
              "            '<a target=\"_blank\" href=https://colab.research.google.com/notebooks/data_table.ipynb>data table notebook</a>'\n",
              "            + ' to learn more about interactive tables.';\n",
              "          element.innerHTML = '';\n",
              "          dataTable['output_type'] = 'display_data';\n",
              "          await google.colab.output.renderOutput(dataTable, element);\n",
              "          const docLink = document.createElement('div');\n",
              "          docLink.innerHTML = docLinkHtml;\n",
              "          element.appendChild(docLink);\n",
              "        }\n",
              "      </script>\n",
              "    </div>\n",
              "  </div>\n",
              "  "
            ]
          },
          "metadata": {},
          "execution_count": 126
        }
      ]
    },
    {
      "cell_type": "code",
      "source": [
        "AL.head()"
      ],
      "metadata": {
        "colab": {
          "base_uri": "https://localhost:8080/",
          "height": 206
        },
        "id": "Ze0taGjtzHfR",
        "outputId": "cb05fc9f-9c47-4001-c741-fc7db5817e41"
      },
      "execution_count": null,
      "outputs": [
        {
          "output_type": "execute_result",
          "data": {
            "text/plain": [
              "    Time   Force  Tensile strain (Strain 1)\n",
              "0  0.000 -0.0003                     0.0000\n",
              "1  1.000  0.0006                    -0.0003\n",
              "2  2.000  0.0017                    -0.0001\n",
              "3  3.000  0.0019                    -0.0001\n",
              "4  3.301  0.1275                     0.0017"
            ],
            "text/html": [
              "\n",
              "  <div id=\"df-3df891fe-1d48-4575-be89-d593791e129b\">\n",
              "    <div class=\"colab-df-container\">\n",
              "      <div>\n",
              "<style scoped>\n",
              "    .dataframe tbody tr th:only-of-type {\n",
              "        vertical-align: middle;\n",
              "    }\n",
              "\n",
              "    .dataframe tbody tr th {\n",
              "        vertical-align: top;\n",
              "    }\n",
              "\n",
              "    .dataframe thead th {\n",
              "        text-align: right;\n",
              "    }\n",
              "</style>\n",
              "<table border=\"1\" class=\"dataframe\">\n",
              "  <thead>\n",
              "    <tr style=\"text-align: right;\">\n",
              "      <th></th>\n",
              "      <th>Time</th>\n",
              "      <th>Force</th>\n",
              "      <th>Tensile strain (Strain 1)</th>\n",
              "    </tr>\n",
              "  </thead>\n",
              "  <tbody>\n",
              "    <tr>\n",
              "      <th>0</th>\n",
              "      <td>0.000</td>\n",
              "      <td>-0.0003</td>\n",
              "      <td>0.0000</td>\n",
              "    </tr>\n",
              "    <tr>\n",
              "      <th>1</th>\n",
              "      <td>1.000</td>\n",
              "      <td>0.0006</td>\n",
              "      <td>-0.0003</td>\n",
              "    </tr>\n",
              "    <tr>\n",
              "      <th>2</th>\n",
              "      <td>2.000</td>\n",
              "      <td>0.0017</td>\n",
              "      <td>-0.0001</td>\n",
              "    </tr>\n",
              "    <tr>\n",
              "      <th>3</th>\n",
              "      <td>3.000</td>\n",
              "      <td>0.0019</td>\n",
              "      <td>-0.0001</td>\n",
              "    </tr>\n",
              "    <tr>\n",
              "      <th>4</th>\n",
              "      <td>3.301</td>\n",
              "      <td>0.1275</td>\n",
              "      <td>0.0017</td>\n",
              "    </tr>\n",
              "  </tbody>\n",
              "</table>\n",
              "</div>\n",
              "      <button class=\"colab-df-convert\" onclick=\"convertToInteractive('df-3df891fe-1d48-4575-be89-d593791e129b')\"\n",
              "              title=\"Convert this dataframe to an interactive table.\"\n",
              "              style=\"display:none;\">\n",
              "        \n",
              "  <svg xmlns=\"http://www.w3.org/2000/svg\" height=\"24px\"viewBox=\"0 0 24 24\"\n",
              "       width=\"24px\">\n",
              "    <path d=\"M0 0h24v24H0V0z\" fill=\"none\"/>\n",
              "    <path d=\"M18.56 5.44l.94 2.06.94-2.06 2.06-.94-2.06-.94-.94-2.06-.94 2.06-2.06.94zm-11 1L8.5 8.5l.94-2.06 2.06-.94-2.06-.94L8.5 2.5l-.94 2.06-2.06.94zm10 10l.94 2.06.94-2.06 2.06-.94-2.06-.94-.94-2.06-.94 2.06-2.06.94z\"/><path d=\"M17.41 7.96l-1.37-1.37c-.4-.4-.92-.59-1.43-.59-.52 0-1.04.2-1.43.59L10.3 9.45l-7.72 7.72c-.78.78-.78 2.05 0 2.83L4 21.41c.39.39.9.59 1.41.59.51 0 1.02-.2 1.41-.59l7.78-7.78 2.81-2.81c.8-.78.8-2.07 0-2.86zM5.41 20L4 18.59l7.72-7.72 1.47 1.35L5.41 20z\"/>\n",
              "  </svg>\n",
              "      </button>\n",
              "      \n",
              "  <style>\n",
              "    .colab-df-container {\n",
              "      display:flex;\n",
              "      flex-wrap:wrap;\n",
              "      gap: 12px;\n",
              "    }\n",
              "\n",
              "    .colab-df-convert {\n",
              "      background-color: #E8F0FE;\n",
              "      border: none;\n",
              "      border-radius: 50%;\n",
              "      cursor: pointer;\n",
              "      display: none;\n",
              "      fill: #1967D2;\n",
              "      height: 32px;\n",
              "      padding: 0 0 0 0;\n",
              "      width: 32px;\n",
              "    }\n",
              "\n",
              "    .colab-df-convert:hover {\n",
              "      background-color: #E2EBFA;\n",
              "      box-shadow: 0px 1px 2px rgba(60, 64, 67, 0.3), 0px 1px 3px 1px rgba(60, 64, 67, 0.15);\n",
              "      fill: #174EA6;\n",
              "    }\n",
              "\n",
              "    [theme=dark] .colab-df-convert {\n",
              "      background-color: #3B4455;\n",
              "      fill: #D2E3FC;\n",
              "    }\n",
              "\n",
              "    [theme=dark] .colab-df-convert:hover {\n",
              "      background-color: #434B5C;\n",
              "      box-shadow: 0px 1px 3px 1px rgba(0, 0, 0, 0.15);\n",
              "      filter: drop-shadow(0px 1px 2px rgba(0, 0, 0, 0.3));\n",
              "      fill: #FFFFFF;\n",
              "    }\n",
              "  </style>\n",
              "\n",
              "      <script>\n",
              "        const buttonEl =\n",
              "          document.querySelector('#df-3df891fe-1d48-4575-be89-d593791e129b button.colab-df-convert');\n",
              "        buttonEl.style.display =\n",
              "          google.colab.kernel.accessAllowed ? 'block' : 'none';\n",
              "\n",
              "        async function convertToInteractive(key) {\n",
              "          const element = document.querySelector('#df-3df891fe-1d48-4575-be89-d593791e129b');\n",
              "          const dataTable =\n",
              "            await google.colab.kernel.invokeFunction('convertToInteractive',\n",
              "                                                     [key], {});\n",
              "          if (!dataTable) return;\n",
              "\n",
              "          const docLinkHtml = 'Like what you see? Visit the ' +\n",
              "            '<a target=\"_blank\" href=https://colab.research.google.com/notebooks/data_table.ipynb>data table notebook</a>'\n",
              "            + ' to learn more about interactive tables.';\n",
              "          element.innerHTML = '';\n",
              "          dataTable['output_type'] = 'display_data';\n",
              "          await google.colab.output.renderOutput(dataTable, element);\n",
              "          const docLink = document.createElement('div');\n",
              "          docLink.innerHTML = docLinkHtml;\n",
              "          element.appendChild(docLink);\n",
              "        }\n",
              "      </script>\n",
              "    </div>\n",
              "  </div>\n",
              "  "
            ]
          },
          "metadata": {},
          "execution_count": 127
        }
      ]
    },
    {
      "cell_type": "code",
      "source": [
        ""
      ],
      "metadata": {
        "id": "ZXYzsrc3M_pm"
      },
      "execution_count": null,
      "outputs": []
    },
    {
      "cell_type": "markdown",
      "source": [
        "# **stress strain curve**"
      ],
      "metadata": {
        "id": "T5KtTFhRM__r"
      }
    },
    {
      "cell_type": "code",
      "source": [
        "Strain_HCS=HCS['Tensile strain (Strain 1)%']\n",
        "d_steel = 9.93    # test bar diameter = 9.93mm\n",
        "stress_HCS = (HCS['Force'])/(np.pi*((d_steel/2)**2))"
      ],
      "metadata": {
        "id": "kZcRWO98rAPj"
      },
      "execution_count": null,
      "outputs": []
    },
    {
      "cell_type": "code",
      "source": [
        "Strain_LCS=LCS['Tensile strain (Strain 1)']\n",
        "d_steel = 9.93    # test bar diameter = 9.93mm\n",
        "stress_LCS = (LCS['Force'])/(np.pi*((d_steel/2)**2))"
      ],
      "metadata": {
        "id": "jvyXZD7ZzPNo"
      },
      "execution_count": null,
      "outputs": []
    },
    {
      "cell_type": "code",
      "source": [
        "Strain_AL=AL['Tensile strain (Strain 1)']\n",
        "d_steel = 9.93    # test bar diameter = 9.93mm\n",
        "stress_AL = (AL['Force'])/(np.pi*((d_steel/2)**2))"
      ],
      "metadata": {
        "id": "BqR9Wtv2zunn"
      },
      "execution_count": null,
      "outputs": []
    },
    {
      "cell_type": "code",
      "source": [
        "plt.plot(Strain_HCS,stress_HCS)\n",
        "plt.xlabel('strain mm/mm)')\n",
        "plt.ylabel('stress (kN/mm2)')\n",
        "plt.title('Stress Strain Curve of high carbon steel in tension')\n",
        "plt.grid()\n",
        "plt.show()"
      ],
      "metadata": {
        "colab": {
          "base_uri": "https://localhost:8080/",
          "height": 295
        },
        "id": "D6Zd2WnXw8z9",
        "outputId": "ce86a7d8-f3e9-4412-ebd6-9a5bdda3df06"
      },
      "execution_count": null,
      "outputs": [
        {
          "output_type": "display_data",
          "data": {
            "text/plain": [
              "<Figure size 432x288 with 1 Axes>"
            ],
            "image/png": "[encoded data removed]"
          },
          "metadata": {
            "needs_background": "light"
          }
        }
      ]
    },
    {
      "cell_type": "code",
      "source": [
        "plt.plot(Strain_LCS,stress_LCS)\n",
        "plt.xlabel('strain mm/mm)')\n",
        "plt.ylabel('stress (kN/mm2)')\n",
        "plt.title('Stress Strain Curve of low carbon steel in tension')\n",
        "plt.grid()\n",
        "plt.show()"
      ],
      "metadata": {
        "colab": {
          "base_uri": "https://localhost:8080/",
          "height": 295
        },
        "id": "iCY3RczIzmMK",
        "outputId": "834f632b-9132-4e7a-87d6-f86387ddc018"
      },
      "execution_count": null,
      "outputs": [
        {
          "output_type": "display_data",
          "data": {
            "text/plain": [
              "<Figure size 432x288 with 1 Axes>"
            ],
            "image/png": "[encoded data removed]"
          },
          "metadata": {
            "needs_background": "light"
          }
        }
      ]
    },
    {
      "cell_type": "code",
      "source": [
        "plt.plot(Strain_AL,stress_AL)\n",
        "plt.xlabel('strain mm/mm)')\n",
        "plt.ylabel('stress (kN/mm2)')\n",
        "plt.title('Stress Strain Curve of aluminium in tension')\n",
        "plt.grid()\n",
        "plt.show()"
      ],
      "metadata": {
        "colab": {
          "base_uri": "https://localhost:8080/",
          "height": 295
        },
        "id": "M_Pq7FW_z4Xc",
        "outputId": "b9188c71-a81d-4481-a9b8-36edb4db0a36"
      },
      "execution_count": null,
      "outputs": [
        {
          "output_type": "display_data",
          "data": {
            "text/plain": [
              "<Figure size 432x288 with 1 Axes>"
            ],
            "image/png": "[encoded data removed]"
          },
          "metadata": {
            "needs_background": "light"
          }
        }
      ]
    },
    {
      "cell_type": "code",
      "source": [
        ""
      ],
      "metadata": {
        "id": "5ijmNR7G80U0"
      },
      "execution_count": null,
      "outputs": []
    },
    {
      "cell_type": "markdown",
      "source": [
        "# **calculate ultimate tensile strength**"
      ],
      "metadata": {
        "id": "kaECc1yT805n"
      }
    },
    {
      "cell_type": "code",
      "source": [
        "# Calculate the tensile strength OF high carbon steel\n",
        "ts_HCS = np.max(stress_HCS)\n",
        "\n",
        "print(f'The tensile strength of high carbon steel is: {(ts_HCS)} kN/mm2')"
      ],
      "metadata": {
        "colab": {
          "base_uri": "https://localhost:8080/"
        },
        "id": "MJL_YF2M8_hc",
        "outputId": "a6630d5c-8fd5-4b7d-f645-ff77fd987010"
      },
      "execution_count": null,
      "outputs": [
        {
          "output_type": "stream",
          "name": "stdout",
          "text": [
            "The tensile strength of high carbon steel is: 0.6282272681198146 kN/mm2\n"
          ]
        }
      ]
    },
    {
      "cell_type": "code",
      "source": [
        "# Calculate the tensile strength of low carbon steel\n",
        "ts_LCS = np.max(stress_LCS)\n",
        "\n",
        "print(f'The tensile strength of LOW carbon steel is: {(ts_LCS)} kN/mm2')"
      ],
      "metadata": {
        "colab": {
          "base_uri": "https://localhost:8080/"
        },
        "id": "p3Ufuri10L-E",
        "outputId": "98099d01-4fc9-42e8-b1e5-49cf625a3ca5"
      },
      "execution_count": null,
      "outputs": [
        {
          "output_type": "stream",
          "name": "stdout",
          "text": [
            "The tensile strength of LOW carbon steel is: 0.3935341375625256 kN/mm2\n"
          ]
        }
      ]
    },
    {
      "cell_type": "code",
      "source": [
        "# Calculate the tensile strength OF aluminium \n",
        "ts_AL = np.max(stress_AL)\n",
        "\n",
        "print(f'The tensile strength of aluminium is: {(ts_AL)} kN/mm2')"
      ],
      "metadata": {
        "colab": {
          "base_uri": "https://localhost:8080/"
        },
        "id": "Xk0GGe2k0hkS",
        "outputId": "2f209aa1-a369-4882-8c77-98140daa2a89"
      },
      "execution_count": null,
      "outputs": [
        {
          "output_type": "stream",
          "name": "stdout",
          "text": [
            "The tensile strength of aluminium is: 0.2862438570875749 kN/mm2\n"
          ]
        }
      ]
    },
    {
      "cell_type": "markdown",
      "source": [
        "# **calculate youngs modulus**"
      ],
      "metadata": {
        "id": "aGMB4dbA-4yv"
      }
    },
    {
      "cell_type": "code",
      "source": [
        "fig,ax = plt.subplots()\n",
        "ax.plot(Strain_HCS, stress_HCS)\n",
        "\n",
        "ax.set_title('Inset of elastic region For high carbon steel curve')\n",
        "ax.set_xlabel('Strain (mm/mm)')\n",
        "ax.set_ylabel('Stress (kN/mm2)')\n",
        "\n",
        "ax.set_xlim([0,0.5])\n",
        "ax.set_ylim([0,0.6])\n",
        "plt.grid()\n",
        "plt.show()\n",
        "\n",
        "# Find the elastic modulus of HIGH CARBON STEEL\n",
        "# use stress and strain values from stress=0 to stress=0.0005 kN\n",
        "linear_stress_HCS_mask = stress_HCS < 0.4\n",
        "linear_stress_HCS = stress_HCS[linear_stress_HCS_mask]\n",
        "linear_strain_HCS = Strain_HCS[linear_stress_HCS_mask]\n",
        "\n",
        "linear_regression_HCS = linregress(linear_strain_HCS, linear_stress_HCS)\n",
        "linear_regression_HCS\n",
        "E_HCS = linear_regression_HCS[0]\n",
        "\n",
        "print(f'The elastic modulus of HIGH CARBON STEEL is {(E_HCS)} kN/mm2')"
      ],
      "metadata": {
        "colab": {
          "base_uri": "https://localhost:8080/",
          "height": 312
        },
        "id": "Vfa6yLck-9EG",
        "outputId": "dfba19fe-7692-472d-c608-caa2428937d6"
      },
      "execution_count": null,
      "outputs": [
        {
          "output_type": "display_data",
          "data": {
            "text/plain": [
              "<Figure size 432x288 with 1 Axes>"
            ],
            "image/png": "[encoded data removed]"
          },
          "metadata": {
            "needs_background": "light"
          }
        },
        {
          "output_type": "stream",
          "name": "stdout",
          "text": [
            "The elastic modulus of HIGH CARBON STEEL is 0.0023757327566104906 kN/mm2\n"
          ]
        }
      ]
    },
    {
      "cell_type": "code",
      "source": [
        "fig,ax = plt.subplots()\n",
        "ax.plot(Strain_LCS, stress_LCS)\n",
        "\n",
        "ax.set_title('Inset of elastic region For LOW carbon steel curve')\n",
        "ax.set_xlabel('Strain (mm/mm)')\n",
        "ax.set_ylabel('Stress (kN/mm2)')\n",
        "\n",
        "ax.set_xlim([0,0.5])\n",
        "ax.set_ylim([0,0.6])\n",
        "plt.grid()\n",
        "plt.show()\n",
        "\n",
        "# Find the elastic modulus of LOW CARBON STEEL\n",
        "# use stress and strain values from stress=0 to stress=0.0005 kN\n",
        "linear_stress_LCS_mask = stress_LCS < 0.4\n",
        "linear_stress_LCS = stress_LCS[linear_stress_LCS_mask]\n",
        "linear_strain_LCS = Strain_LCS[linear_stress_LCS_mask]\n",
        "\n",
        "linear_regression_LCS = linregress(linear_strain_LCS, linear_stress_LCS)\n",
        "linear_regression_LCS\n",
        "E_LCS = linear_regression_LCS[0]\n",
        "\n",
        "print(f'The elastic modulus of LOW CARBON STEEL is {(E_LCS)} kN/mm2')"
      ],
      "metadata": {
        "colab": {
          "base_uri": "https://localhost:8080/",
          "height": 312
        },
        "id": "7q7VG5yF1Ktk",
        "outputId": "2b11711a-3b30-4339-85c1-27b38be76ace"
      },
      "execution_count": null,
      "outputs": [
        {
          "output_type": "display_data",
          "data": {
            "text/plain": [
              "<Figure size 432x288 with 1 Axes>"
            ],
            "image/png": "[encoded data removed]"
          },
          "metadata": {
            "needs_background": "light"
          }
        },
        {
          "output_type": "stream",
          "name": "stdout",
          "text": [
            "The elastic modulus of HIGH CARBON STEEL is 0.004614790149249287 kN/mm2\n"
          ]
        }
      ]
    },
    {
      "cell_type": "code",
      "source": [
        "fig,ax = plt.subplots()\n",
        "ax.plot(Strain_AL, stress_AL)\n",
        "\n",
        "ax.set_title('Inset of elastic region For AL curve')\n",
        "ax.set_xlabel('Strain (mm/mm)')\n",
        "ax.set_ylabel('Stress (kN/mm2)')\n",
        "\n",
        "ax.set_xlim([0,0.5])\n",
        "ax.set_ylim([0,0.6])\n",
        "plt.grid()\n",
        "plt.show()\n",
        "\n",
        "# Find the elastic modulus of LOW CARBON STEEL\n",
        "# use stress and strain values from stress=0 to stress=0.0005 kN\n",
        "linear_stress_AL_mask = stress_AL < 0.4\n",
        "linear_stress_AL = stress_AL[linear_stress_AL_mask]\n",
        "linear_strain_AL = Strain_AL[linear_stress_AL_mask]\n",
        "\n",
        "linear_regression_AL= linregress(linear_strain_AL, linear_stress_AL)\n",
        "linear_regression_AL\n",
        "E_AL = linear_regression_AL[0]\n",
        "\n",
        "print(f'The elastic modulus of AL  is {(E_AL)} kN/mm2')"
      ],
      "metadata": {
        "colab": {
          "base_uri": "https://localhost:8080/",
          "height": 235
        },
        "id": "cab7YDYr2mpT",
        "outputId": "f7ae1401-e945-44cd-b5c6-1c5e6036f75b"
      },
      "execution_count": null,
      "outputs": [
        {
          "output_type": "error",
          "ename": "NameError",
          "evalue": "ignored",
          "traceback": [
            "\u001b[0;31m---------------------------------------------------------------------------\u001b[0m",
            "\u001b[0;31mNameError\u001b[0m                                 Traceback (most recent call last)",
            "\u001b[0;32m<ipython-input-1-864a4364b3cb>\u001b[0m in \u001b[0;36m<module>\u001b[0;34m()\u001b[0m\n\u001b[0;32m----> 1\u001b[0;31m \u001b[0mfig\u001b[0m\u001b[0;34m,\u001b[0m\u001b[0max\u001b[0m \u001b[0;34m=\u001b[0m \u001b[0mplt\u001b[0m\u001b[0;34m.\u001b[0m\u001b[0msubplots\u001b[0m\u001b[0;34m(\u001b[0m\u001b[0;34m)\u001b[0m\u001b[0;34m\u001b[0m\u001b[0;34m\u001b[0m\u001b[0m\n\u001b[0m\u001b[1;32m      2\u001b[0m \u001b[0max\u001b[0m\u001b[0;34m.\u001b[0m\u001b[0mplot\u001b[0m\u001b[0;34m(\u001b[0m\u001b[0mStrain_AL\u001b[0m\u001b[0;34m,\u001b[0m \u001b[0mstress_AL\u001b[0m\u001b[0;34m)\u001b[0m\u001b[0;34m\u001b[0m\u001b[0;34m\u001b[0m\u001b[0m\n\u001b[1;32m      3\u001b[0m \u001b[0;34m\u001b[0m\u001b[0m\n\u001b[1;32m      4\u001b[0m \u001b[0max\u001b[0m\u001b[0;34m.\u001b[0m\u001b[0mset_title\u001b[0m\u001b[0;34m(\u001b[0m\u001b[0;34m'Inset of elastic region For AL curve'\u001b[0m\u001b[0;34m)\u001b[0m\u001b[0;34m\u001b[0m\u001b[0;34m\u001b[0m\u001b[0m\n\u001b[1;32m      5\u001b[0m \u001b[0max\u001b[0m\u001b[0;34m.\u001b[0m\u001b[0mset_xlabel\u001b[0m\u001b[0;34m(\u001b[0m\u001b[0;34m'Strain (mm/mm)'\u001b[0m\u001b[0;34m)\u001b[0m\u001b[0;34m\u001b[0m\u001b[0;34m\u001b[0m\u001b[0m\n",
            "\u001b[0;31mNameError\u001b[0m: name 'plt' is not defined"
          ]
        }
      ]
    },
    {
      "cell_type": "markdown",
      "source": [
        "# **Yield strength**"
      ],
      "metadata": {
        "id": "7IPgPzNeGzs6"
      }
    },
    {
      "cell_type": "code",
      "source": [
        "# calculate the yield strength \n",
        "strain_HCS_array = np.array(Strain_HCS)\n",
        "Strain_HCS_off=E_HCS*100*linear_strain_HCS+0.02\n",
        "stress_HCS_off=E_HCS*100*linear_strain_HCS\n",
        "fig, ax = plt.subplots()\n",
        "#ax.plot(Strain_HCS,stress_HCS,Strain_HCS,stress_offset_al)\n",
        "ax.plot(Strain_HCS,stress_HCS)\n",
        "ax.plot(Strain_HCS_off,stress_HCS_off)\n",
        "#ax.set_xlim([0,0.5])\n",
        "ax.set_ylim([0,0.7])\n",
        "ax.set_xlabel('Strain (mm/mm)')\n",
        "ax.set_ylabel('Stress (kN/mm2)')\n",
        "plt.savefig('20% offset method.png', dpi=300, bbox_inches='tight')\n",
        "plt.grid()\n",
        "plt.show()"
      ],
      "metadata": {
        "colab": {
          "base_uri": "https://localhost:8080/",
          "height": 283
        },
        "id": "pPMhrK9YGyt4",
        "outputId": "b2726efe-6c4c-4e93-c610-c6c3bee9522b"
      },
      "execution_count": null,
      "outputs": [
        {
          "output_type": "display_data",
          "data": {
            "text/plain": [
              "<Figure size 432x288 with 1 Axes>"
            ],
            "image/png": "[encoded data removed]"
          },
          "metadata": {
            "needs_background": "light"
          }
        }
      ]
    },
    {
      "cell_type": "code",
      "source": [
        "ys_HCS=0.45 \n",
        "print(f'The yield strength of high carbon steel is {(ys_HCS)} kN/mm2')"
      ],
      "metadata": {
        "colab": {
          "base_uri": "https://localhost:8080/"
        },
        "id": "8jYvIIE23-DA",
        "outputId": "b8855096-9c4a-4e16-e5e6-e3cc06689476"
      },
      "execution_count": null,
      "outputs": [
        {
          "output_type": "stream",
          "name": "stdout",
          "text": [
            "The yield strength of high carbon steel is 0.45 kN/mm2\n"
          ]
        }
      ]
    },
    {
      "cell_type": "code",
      "source": [
        "# calculate the yield strength \n",
        "strain_LCS_array = np.array(Strain_LCS)\n",
        "Strain_LCS_off=E_LCS*100*linear_strain_LCS+0.02\n",
        "stress_LCS_off=E_LCS*100*linear_strain_LCS\n",
        "fig, ax = plt.subplots()\n",
        "#ax.plot(Strain_HCS,stress_HCS,Strain_HCS,stress_offset_al)\n",
        "ax.plot(Strain_LCS,stress_LCS)\n",
        "ax.plot(Strain_LCS_off,stress_LCS_off)\n",
        "ax.set_xlim([0,0.5])\n",
        "ax.set_ylim([0,0.45])\n",
        "ax.set_xlabel('Strain (mm/mm)')\n",
        "ax.set_ylabel('Stress (kN/mm2)')\n",
        "plt.savefig('20% offset method.png', dpi=300, bbox_inches='tight')\n",
        "plt.grid()\n",
        "plt.show()"
      ],
      "metadata": {
        "colab": {
          "base_uri": "https://localhost:8080/",
          "height": 283
        },
        "id": "JMpFg13X3Xpt",
        "outputId": "e6c4d833-7528-44b1-b645-a120a8c4822e"
      },
      "execution_count": null,
      "outputs": [
        {
          "output_type": "display_data",
          "data": {
            "text/plain": [
              "<Figure size 432x288 with 1 Axes>"
            ],
            "image/png": "[encoded data removed]"
          },
          "metadata": {
            "needs_background": "light"
          }
        }
      ]
    },
    {
      "cell_type": "code",
      "source": [
        "ys_LCS=0.32 \n",
        "print(f'The yield strength of high carbon steel is {(ys_LCS)} kN/mm2')"
      ],
      "metadata": {
        "colab": {
          "base_uri": "https://localhost:8080/"
        },
        "outputId": "87b1a438-879c-4fb6-d2bf-a0aa9fa3bd9e",
        "id": "IVWsCqex7fxb"
      },
      "execution_count": null,
      "outputs": [
        {
          "output_type": "stream",
          "name": "stdout",
          "text": [
            "The yield strength of high carbon steel is 0.32 kN/mm2\n"
          ]
        }
      ]
    },
    {
      "cell_type": "code",
      "source": [
        "# calculate the yield strength \n",
        "strain_AL_array = np.array(Strain_AL)\n",
        "stress_offset_AL = 0.52*(strain_AL_array - 0.002)\n",
        "Strain_AL_off=E_AL*100*linear_strain_AL+0.02\n",
        "stress_AL_off=E_AL*100*linear_strain_AL+0.002\n",
        "fig, ax = plt.subplots()\n",
        "ax.plot(Strain_AL,stress_AL,Strain_AL,stress_offset_AL)\n",
        "#ax.plot(Strain_AL,stress_AL)\n",
        "#ax.plot(Strain_AL_off,stress_AL_off)\n",
        "ax.set_xlim([0,1])\n",
        "ax.set_ylim([0,0.45])\n",
        "ax.set_xlabel('Strain (mm/mm)')\n",
        "ax.set_ylabel('Stress (kN/mm2)')\n",
        "plt.savefig('20% offset method.png', dpi=300, bbox_inches='tight')\n",
        "plt.grid()\n",
        "plt.show()"
      ],
      "metadata": {
        "colab": {
          "base_uri": "https://localhost:8080/",
          "height": 283
        },
        "id": "WylQA9Cq4PQc",
        "outputId": "c7a3f3eb-8911-4ef6-9a53-3f5e54d41e88"
      },
      "execution_count": null,
      "outputs": [
        {
          "output_type": "display_data",
          "data": {
            "text/plain": [
              "<Figure size 432x288 with 1 Axes>"
            ],
            "image/png": "[encoded data removed]"
          },
          "metadata": {
            "needs_background": "light"
          }
        }
      ]
    },
    {
      "cell_type": "code",
      "source": [
        "ys_AL=0.26 \n",
        "print(f'The yield strength of aluminium is {(ys_AL)} kN/mm2')"
      ],
      "metadata": {
        "colab": {
          "base_uri": "https://localhost:8080/"
        },
        "id": "LRzsGsoe3SD8",
        "outputId": "1a306331-ad81-44ce-bb49-2b5578851188"
      },
      "execution_count": null,
      "outputs": [
        {
          "output_type": "stream",
          "name": "stdout",
          "text": [
            "The yield strength of high carbon steel is 0.26 kN/mm2\n"
          ]
        }
      ]
    },
    {
      "cell_type": "markdown",
      "source": [
        "# **Failure strength**"
      ],
      "metadata": {
        "id": "hKG9NXNPM1x6"
      }
    },
    {
      "cell_type": "code",
      "source": [
        "plt.plot(Strain_HCS,stress_HCS)\n",
        "plt.xlabel('strain mm/mm)')\n",
        "plt.ylabel('stress (kN/mm2)')\n",
        "plt.title('Stress Strain Curve of high carbon steel in tension')\n",
        "plt.axhline(y=0.525, color='Y', linestyle='-')\n",
        "plt.vlines(10.75, 0, 0.6, color='red')\n",
        "plt.grid()\n",
        "plt.show()\n"
      ],
      "metadata": {
        "id": "Q2ZifbF5-3Sw",
        "colab": {
          "base_uri": "https://localhost:8080/",
          "height": 350
        },
        "outputId": "d1253976-9318-492f-e79a-874c2516dbb9"
      },
      "execution_count": null,
      "outputs": [
        {
          "output_type": "stream",
          "name": "stderr",
          "text": [
            "/usr/local/lib/python3.7/dist-packages/IPython/core/pylabtools.py:125: MatplotlibDeprecationWarning: Support for uppercase single-letter colors is deprecated since Matplotlib 3.1 and will be removed in 3.3; please use lowercase instead.\n",
            "  fig.canvas.print_figure(bytes_io, **kw)\n"
          ]
        },
        {
          "output_type": "display_data",
          "data": {
            "text/plain": [
              "<Figure size 432x288 with 1 Axes>"
            ],
            "image/png": "[encoded data removed]"
          },
          "metadata": {
            "needs_background": "light"
          }
        }
      ]
    },
    {
      "cell_type": "code",
      "source": [
        "HCS_STRESS=0.53\n",
        "HCS_STRAIN=10.75\n",
        "print(f'The failure strength of high carbon steel is {(HCS_STRESS)} kN/mm2')\n",
        "print(f'The failure STRAIN of high carbon steel is {(HCS_STRAIN)} mm/mm')"
      ],
      "metadata": {
        "id": "6q62eR4k4V0g",
        "colab": {
          "base_uri": "https://localhost:8080/"
        },
        "outputId": "36cf5d7b-709c-416b-c266-d65724bc36f4"
      },
      "execution_count": null,
      "outputs": [
        {
          "output_type": "stream",
          "name": "stdout",
          "text": [
            "The failure strength of high carbon steel is 0.53 kN/mm2\n",
            "The failure STRAIN of high carbon steel is 10.75 mm/mm\n"
          ]
        }
      ]
    },
    {
      "cell_type": "code",
      "source": [
        "plt.plot(Strain_LCS,stress_LCS)\n",
        "plt.xlabel('strain mm/mm)')\n",
        "plt.ylabel('stress (kN/mm2)')\n",
        "plt.title('Stress Strain Curve of low carbon steel in tension')\n",
        "plt.axhline(y=0.25, color='Y', linestyle='-')\n",
        "plt.vlines(21.25, 0, 0.6, color='red')\n",
        "plt.grid()\n",
        "plt.show()"
      ],
      "metadata": {
        "id": "GkqYn-bA4V4a",
        "colab": {
          "base_uri": "https://localhost:8080/",
          "height": 295
        },
        "outputId": "16df989f-911c-4b5d-f67a-71e26fb1d9b1"
      },
      "execution_count": null,
      "outputs": [
        {
          "output_type": "display_data",
          "data": {
            "text/plain": [
              "<Figure size 432x288 with 1 Axes>"
            ],
            "image/png": "[encoded data removed]"
          },
          "metadata": {
            "needs_background": "light"
          }
        }
      ]
    },
    {
      "cell_type": "code",
      "source": [
        "LCS_STRESS=0.25\n",
        "LCS_STRAIN=21.25\n",
        "print(f'The failure strength of high carbon steel is {(LCS_STRESS)} kN/mm2')\n",
        "print(f'The failure STRAIN of high carbon steel is {(LCS_STRAIN)} mm/mm')"
      ],
      "metadata": {
        "colab": {
          "base_uri": "https://localhost:8080/"
        },
        "id": "E3AVd857C-1Y",
        "outputId": "e75e44cb-ca4d-4851-fe00-9d5424e70afc"
      },
      "execution_count": null,
      "outputs": [
        {
          "output_type": "stream",
          "name": "stdout",
          "text": [
            "The failure strength of high carbon steel is 0.25 kN/mm2\n",
            "The failure STRAIN of high carbon steel is 21.25 mm/mm\n"
          ]
        }
      ]
    },
    {
      "cell_type": "code",
      "source": [
        "plt.plot(Strain_AL,stress_AL)\n",
        "plt.xlabel('strain mm/mm)')\n",
        "plt.ylabel('stress (kN/mm2)')\n",
        "plt.title('Stress Strain Curve of ALUMINUM in tension')\n",
        "plt.axhline(y=0.23, color='Y', linestyle='-')\n",
        "plt.vlines(7.5, 0, 0.4, color='red')\n",
        "plt.grid()\n",
        "plt.show()"
      ],
      "metadata": {
        "colab": {
          "base_uri": "https://localhost:8080/",
          "height": 295
        },
        "id": "V0TS0tMBDiw9",
        "outputId": "42a45dcc-8739-498d-a141-a6377ec84245"
      },
      "execution_count": null,
      "outputs": [
        {
          "output_type": "display_data",
          "data": {
            "text/plain": [
              "<Figure size 432x288 with 1 Axes>"
            ],
            "image/png": "[encoded data removed]"
          },
          "metadata": {
            "needs_background": "light"
          }
        }
      ]
    },
    {
      "cell_type": "code",
      "source": [
        "AL_STRESS=0.23\n",
        "AL_STRAIN=7.5\n",
        "print(f'The failure strength of high carbon steel is {(AL_STRESS)} kN/mm2')\n",
        "print(f'The failure STRAIN of high carbon steel is {(AL_STRAIN)} mm/mm')"
      ],
      "metadata": {
        "colab": {
          "base_uri": "https://localhost:8080/"
        },
        "id": "WByVFicADjBK",
        "outputId": "e3aa786e-42af-44e2-d618-577a22abb97d"
      },
      "execution_count": null,
      "outputs": [
        {
          "output_type": "stream",
          "name": "stdout",
          "text": [
            "The failure strength of high carbon steel is 0.23 kN/mm2\n",
            "The failure STRAIN of high carbon steel is 7.5 mm/mm\n"
          ]
        }
      ]
    },
    {
      "cell_type": "markdown",
      "source": [
        "# **Torsional testing**"
      ],
      "metadata": {
        "id": "3iis-WW5PAyf"
      }
    },
    {
      "cell_type": "code",
      "source": [
        "torsion_hcs = pd.read_excel(\"/content/torsion_high carbon.xlsx\")\n"
      ],
      "metadata": {
        "id": "3uupuPNJNpC0"
      },
      "execution_count": null,
      "outputs": []
    },
    {
      "cell_type": "code",
      "source": [
        "torsion_hcs.head()"
      ],
      "metadata": {
        "id": "KlGYOHBz4V-k",
        "colab": {
          "base_uri": "https://localhost:8080/",
          "height": 206
        },
        "outputId": "0ce0bf1c-bdac-4408-bc5a-63e6e424ea24"
      },
      "execution_count": null,
      "outputs": [
        {
          "output_type": "execute_result",
          "data": {
            "text/plain": [
              "   displacement -degree  angle-radian  Torque-Nm\n",
              "0                  0.00      0.000000       0.00\n",
              "1                 19.38      0.338245       8.53\n",
              "2                 22.38      0.390605       9.44\n",
              "3                 25.47      0.444535      10.67\n",
              "4                 28.43      0.496197      10.67"
            ],
            "text/html": [
              "\n",
              "  <div id=\"df-1446a084-b3da-48aa-b1b2-81602b8011e2\">\n",
              "    <div class=\"colab-df-container\">\n",
              "      <div>\n",
              "<style scoped>\n",
              "    .dataframe tbody tr th:only-of-type {\n",
              "        vertical-align: middle;\n",
              "    }\n",
              "\n",
              "    .dataframe tbody tr th {\n",
              "        vertical-align: top;\n",
              "    }\n",
              "\n",
              "    .dataframe thead th {\n",
              "        text-align: right;\n",
              "    }\n",
              "</style>\n",
              "<table border=\"1\" class=\"dataframe\">\n",
              "  <thead>\n",
              "    <tr style=\"text-align: right;\">\n",
              "      <th></th>\n",
              "      <th>displacement -degree</th>\n",
              "      <th>angle-radian</th>\n",
              "      <th>Torque-Nm</th>\n",
              "    </tr>\n",
              "  </thead>\n",
              "  <tbody>\n",
              "    <tr>\n",
              "      <th>0</th>\n",
              "      <td>0.00</td>\n",
              "      <td>0.000000</td>\n",
              "      <td>0.00</td>\n",
              "    </tr>\n",
              "    <tr>\n",
              "      <th>1</th>\n",
              "      <td>19.38</td>\n",
              "      <td>0.338245</td>\n",
              "      <td>8.53</td>\n",
              "    </tr>\n",
              "    <tr>\n",
              "      <th>2</th>\n",
              "      <td>22.38</td>\n",
              "      <td>0.390605</td>\n",
              "      <td>9.44</td>\n",
              "    </tr>\n",
              "    <tr>\n",
              "      <th>3</th>\n",
              "      <td>25.47</td>\n",
              "      <td>0.444535</td>\n",
              "      <td>10.67</td>\n",
              "    </tr>\n",
              "    <tr>\n",
              "      <th>4</th>\n",
              "      <td>28.43</td>\n",
              "      <td>0.496197</td>\n",
              "      <td>10.67</td>\n",
              "    </tr>\n",
              "  </tbody>\n",
              "</table>\n",
              "</div>\n",
              "      <button class=\"colab-df-convert\" onclick=\"convertToInteractive('df-1446a084-b3da-48aa-b1b2-81602b8011e2')\"\n",
              "              title=\"Convert this dataframe to an interactive table.\"\n",
              "              style=\"display:none;\">\n",
              "        \n",
              "  <svg xmlns=\"http://www.w3.org/2000/svg\" height=\"24px\"viewBox=\"0 0 24 24\"\n",
              "       width=\"24px\">\n",
              "    <path d=\"M0 0h24v24H0V0z\" fill=\"none\"/>\n",
              "    <path d=\"M18.56 5.44l.94 2.06.94-2.06 2.06-.94-2.06-.94-.94-2.06-.94 2.06-2.06.94zm-11 1L8.5 8.5l.94-2.06 2.06-.94-2.06-.94L8.5 2.5l-.94 2.06-2.06.94zm10 10l.94 2.06.94-2.06 2.06-.94-2.06-.94-.94-2.06-.94 2.06-2.06.94z\"/><path d=\"M17.41 7.96l-1.37-1.37c-.4-.4-.92-.59-1.43-.59-.52 0-1.04.2-1.43.59L10.3 9.45l-7.72 7.72c-.78.78-.78 2.05 0 2.83L4 21.41c.39.39.9.59 1.41.59.51 0 1.02-.2 1.41-.59l7.78-7.78 2.81-2.81c.8-.78.8-2.07 0-2.86zM5.41 20L4 18.59l7.72-7.72 1.47 1.35L5.41 20z\"/>\n",
              "  </svg>\n",
              "      </button>\n",
              "      \n",
              "  <style>\n",
              "    .colab-df-container {\n",
              "      display:flex;\n",
              "      flex-wrap:wrap;\n",
              "      gap: 12px;\n",
              "    }\n",
              "\n",
              "    .colab-df-convert {\n",
              "      background-color: #E8F0FE;\n",
              "      border: none;\n",
              "      border-radius: 50%;\n",
              "      cursor: pointer;\n",
              "      display: none;\n",
              "      fill: #1967D2;\n",
              "      height: 32px;\n",
              "      padding: 0 0 0 0;\n",
              "      width: 32px;\n",
              "    }\n",
              "\n",
              "    .colab-df-convert:hover {\n",
              "      background-color: #E2EBFA;\n",
              "      box-shadow: 0px 1px 2px rgba(60, 64, 67, 0.3), 0px 1px 3px 1px rgba(60, 64, 67, 0.15);\n",
              "      fill: #174EA6;\n",
              "    }\n",
              "\n",
              "    [theme=dark] .colab-df-convert {\n",
              "      background-color: #3B4455;\n",
              "      fill: #D2E3FC;\n",
              "    }\n",
              "\n",
              "    [theme=dark] .colab-df-convert:hover {\n",
              "      background-color: #434B5C;\n",
              "      box-shadow: 0px 1px 3px 1px rgba(0, 0, 0, 0.15);\n",
              "      filter: drop-shadow(0px 1px 2px rgba(0, 0, 0, 0.3));\n",
              "      fill: #FFFFFF;\n",
              "    }\n",
              "  </style>\n",
              "\n",
              "      <script>\n",
              "        const buttonEl =\n",
              "          document.querySelector('#df-1446a084-b3da-48aa-b1b2-81602b8011e2 button.colab-df-convert');\n",
              "        buttonEl.style.display =\n",
              "          google.colab.kernel.accessAllowed ? 'block' : 'none';\n",
              "\n",
              "        async function convertToInteractive(key) {\n",
              "          const element = document.querySelector('#df-1446a084-b3da-48aa-b1b2-81602b8011e2');\n",
              "          const dataTable =\n",
              "            await google.colab.kernel.invokeFunction('convertToInteractive',\n",
              "                                                     [key], {});\n",
              "          if (!dataTable) return;\n",
              "\n",
              "          const docLinkHtml = 'Like what you see? Visit the ' +\n",
              "            '<a target=\"_blank\" href=https://colab.research.google.com/notebooks/data_table.ipynb>data table notebook</a>'\n",
              "            + ' to learn more about interactive tables.';\n",
              "          element.innerHTML = '';\n",
              "          dataTable['output_type'] = 'display_data';\n",
              "          await google.colab.output.renderOutput(dataTable, element);\n",
              "          const docLink = document.createElement('div');\n",
              "          docLink.innerHTML = docLinkHtml;\n",
              "          element.appendChild(docLink);\n",
              "        }\n",
              "      </script>\n",
              "    </div>\n",
              "  </div>\n",
              "  "
            ]
          },
          "metadata": {},
          "execution_count": 87
        }
      ]
    },
    {
      "cell_type": "markdown",
      "source": [
        "# **shear stress**"
      ],
      "metadata": {
        "id": "WimC8Xe5iXmG"
      }
    },
    {
      "cell_type": "code",
      "source": [
        "dia=0.00594    #bar diameter\n",
        "rad=dia/2\n",
        "L=0.07585 # guage length\n",
        "j=(np.pi*((dia/2)**4))/2 #polar moment of inertia\n",
        "shear_stress=(torsion_hcs['Torque-Nm']* rad)/(j)\n"
      ],
      "metadata": {
        "id": "B8xbxKS4Ptpy"
      },
      "execution_count": null,
      "outputs": []
    },
    {
      "cell_type": "markdown",
      "source": [
        "# **shear strain**"
      ],
      "metadata": {
        "id": "WDwp3B1MibWd"
      }
    },
    {
      "cell_type": "code",
      "source": [
        "shear_strain=(torsion_hcs['angle-radian']* rad)/L"
      ],
      "metadata": {
        "id": "RmPgqLvXP1R2"
      },
      "execution_count": null,
      "outputs": []
    },
    {
      "cell_type": "markdown",
      "source": [
        "# **Modulus of ridigity**"
      ],
      "metadata": {
        "id": "LPzlkD--ieji"
      }
    },
    {
      "cell_type": "code",
      "source": [
        "G=shear_stress/shear_strain\n"
      ],
      "metadata": {
        "colab": {
          "base_uri": "https://localhost:8080/"
        },
        "id": "R7lmaq7xY-Ii",
        "outputId": "59e94e82-c51c-4c27-d541-a7e8d96c6907"
      },
      "execution_count": null,
      "outputs": [
        {
          "output_type": "execute_result",
          "data": {
            "text/plain": [
              "0              NaN\n",
              "1     1.565049e+10\n",
              "2     1.499838e+10\n",
              "3     1.489594e+10\n",
              "4     1.334505e+10\n",
              "5     1.168883e+10\n",
              "6     1.088286e+10\n",
              "7     1.065979e+10\n",
              "8     9.627112e+09\n",
              "9     8.928678e+09\n",
              "10    8.009832e+09\n",
              "11    5.089985e+09\n",
              "12    0.000000e+00\n",
              "dtype: float64"
            ]
          },
          "metadata": {},
          "execution_count": 104
        }
      ]
    },
    {
      "cell_type": "code",
      "source": [
        "G_HCS=1.4E9/10E6\n",
        "print(\"Modulus of rigidity is =\", G_HCS,\"MPa\")"
      ],
      "metadata": {
        "colab": {
          "base_uri": "https://localhost:8080/"
        },
        "id": "ufNw_48UESyD",
        "outputId": "496ca549-7fbf-423a-d59d-9ff03c9f4caa"
      },
      "execution_count": null,
      "outputs": [
        {
          "output_type": "stream",
          "name": "stdout",
          "text": [
            "Modulus of rigidity is = 140.0 MPa\n"
          ]
        }
      ]
    },
    {
      "cell_type": "markdown",
      "source": [
        "# **Toughness**"
      ],
      "metadata": {
        "id": "eR0xWab1iqe6"
      }
    },
    {
      "cell_type": "code",
      "source": [
        "from numpy import trapz\n",
        "area = trapz(shear_stress)\n",
        "area=area/10e6\n",
        "print(\"Toughness (MPa)=\", area)"
      ],
      "metadata": {
        "colab": {
          "base_uri": "https://localhost:8080/"
        },
        "id": "vdz_sNuyeF7-",
        "outputId": "0b3d158d-71f2-45d2-8f9d-82e44a4a76bb"
      },
      "execution_count": null,
      "outputs": [
        {
          "output_type": "stream",
          "name": "stdout",
          "text": [
            "Toughness (MPa)= 303.70454785166953\n"
          ]
        }
      ]
    },
    {
      "cell_type": "markdown",
      "source": [
        "# **shear stress and strain curve**"
      ],
      "metadata": {
        "id": "OTiiBBu6iuu6"
      }
    },
    {
      "cell_type": "code",
      "source": [
        "lt.plot(shear_strain,shear_stress)\n",
        "plt.xlabel('shear strain rad)')\n",
        "plt.ylabel('shear stress (N/m2))')\n",
        "plt.title('shear Stress Strain Curve of high carbon steel')\n",
        "plt.grid()\n",
        "plt.show()"
      ],
      "metadata": {
        "colab": {
          "base_uri": "https://localhost:8080/",
          "height": 295
        },
        "id": "8haLm3fIUju5",
        "outputId": "00916f4b-ae2b-4bb1-ca2a-52bda5e03b3b"
      },
      "execution_count": null,
      "outputs": [
        {
          "output_type": "display_data",
          "data": {
            "text/plain": [
              "<Figure size 432x288 with 1 Axes>"
            ],
            "image/png": "[encoded data removed]"
          },
          "metadata": {
            "needs_background": "light"
          }
        }
      ]
    },
    {
      "cell_type": "code",
      "source": [
        ""
      ],
      "metadata": {
        "id": "zwTXDNBAi0Pb"
      },
      "execution_count": null,
      "outputs": []
    },
    {
      "cell_type": "markdown",
      "source": [
        "# **charpy impact test under room temperature**"
      ],
      "metadata": {
        "id": "fNw7PRJcJpqU"
      }
    },
    {
      "cell_type": "code",
      "source": [
        "alpha=99\n",
        "beta=86\n",
        "PLE=0.53\n",
        "r= 0.30 # length of hammer m\n",
        "m=0.5 # mass of hammer in kg"
      ],
      "metadata": {
        "id": "pgkUbeali3Zy"
      },
      "execution_count": null,
      "outputs": []
    },
    {
      "cell_type": "code",
      "source": [
        "from math import sin\n",
        "absorbed=m*9.8*r*(sin(alpha-90)-sin(beta-90))\n",
        "print (\"Energy absorded =\",abs(absorbed))"
      ],
      "metadata": {
        "colab": {
          "base_uri": "https://localhost:8080/"
        },
        "id": "RQOAA63OKjbp",
        "outputId": "e1d99dcf-e7d2-40c8-d799-56e1c4e50d08"
      },
      "execution_count": null,
      "outputs": [
        {
          "output_type": "stream",
          "name": "stdout",
          "text": [
            "Energy absorded = 0.5066854947972722\n"
          ]
        }
      ]
    },
    {
      "cell_type": "code",
      "source": [
        ""
      ],
      "metadata": {
        "id": "OV04WSoqNma4"
      },
      "execution_count": null,
      "outputs": []
    },
    {
      "cell_type": "markdown",
      "source": [
        "# **charpy impact test under lower temperature**"
      ],
      "metadata": {
        "id": "vo_Xe4Z6MwqH"
      }
    },
    {
      "cell_type": "code",
      "source": [
        "from math import sin\n",
        "beta2=81\n",
        "absorbed2=m*9.8*r*(sin(alpha-90)-sin(beta2-90))\n",
        "\n",
        "print (\"Energy absorded =\",abs(absorbed2))"
      ],
      "metadata": {
        "colab": {
          "base_uri": "https://localhost:8080/"
        },
        "id": "DBATAVOCM0gE",
        "outputId": "cf6a0e8d-fcf8-4ec5-e0ff-826ef6482476"
      },
      "execution_count": null,
      "outputs": [
        {
          "output_type": "stream",
          "name": "stdout",
          "text": [
            "Energy absorded = 1.2116283466107645\n"
          ]
        }
      ]
    },
    {
      "cell_type": "code",
      "source": [
        ""
      ],
      "metadata": {
        "id": "GP8S7oSQQR7P"
      },
      "execution_count": null,
      "outputs": []
    },
    {
      "cell_type": "markdown",
      "source": [
        "# **charpy impact test low carbon steel**"
      ],
      "metadata": {
        "id": "B5A8Wi__QSVo"
      }
    },
    {
      "cell_type": "code",
      "source": [
        "from math import sin\n",
        "beta3=67\n",
        "absorbed3=m*9.8*r*(sin(alpha-90)-sin(beta3-90))\n",
        "\n",
        "print (\"Energy absorded =\",abs(absorbed3))"
      ],
      "metadata": {
        "colab": {
          "base_uri": "https://localhost:8080/"
        },
        "id": "3evvK7zNQWz8",
        "outputId": "0a878d03-8936-4b0e-ba28-b937251a5388"
      },
      "execution_count": null,
      "outputs": [
        {
          "output_type": "stream",
          "name": "stdout",
          "text": [
            "Energy absorded = 0.6381298208321187\n"
          ]
        }
      ]
    },
    {
      "cell_type": "code",
      "source": [
        ""
      ],
      "metadata": {
        "id": "ajA9agq6QiH4"
      },
      "execution_count": null,
      "outputs": []
    }
  ]
}